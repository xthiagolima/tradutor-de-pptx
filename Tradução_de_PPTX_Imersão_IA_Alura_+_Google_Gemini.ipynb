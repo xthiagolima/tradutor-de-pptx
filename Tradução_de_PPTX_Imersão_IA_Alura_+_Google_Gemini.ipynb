{
  "nbformat": 4,
  "nbformat_minor": 0,
  "metadata": {
    "colab": {
      "provenance": [],
      "include_colab_link": true
    },
    "kernelspec": {
      "name": "python3",
      "display_name": "Python 3"
    },
    "language_info": {
      "name": "python"
    }
  },
  "cells": [
    {
      "cell_type": "markdown",
      "metadata": {
        "id": "view-in-github",
        "colab_type": "text"
      },
      "source": [
        "<a href=\"https://colab.research.google.com/github/xthiagolima/tradutor-de-pptx/blob/main/Tradu%C3%A7%C3%A3o_de_PPTX_Imers%C3%A3o_IA_Alura_%2B_Google_Gemini.ipynb\" target=\"_parent\"><img src=\"https://colab.research.google.com/assets/colab-badge.svg\" alt=\"Open In Colab\"/></a>"
      ]
    },
    {
      "cell_type": "markdown",
      "source": [
        "# 🌍 **Traduza apresentações PowerPoint para qualquer idioma com o Gemini** 🚀\n",
        "\n",
        "---\n",
        "\n",
        "* ⏱️ **Traduza em segundos ou minutos**. Não perca seu dia com processos manuais.\n",
        "* 📊 **4, 20, 100 ou mais slides?** Vai tranquilo!\n",
        "* 🌐 **Suporte a múltiplos idiomas** com alta precisão\n",
        "* 🎯 **Preserva a formatação original**, layout e posições dos textos intactos\n",
        "* 🔁 **Revisão automática** em caso de discrepâncias na tradução\n",
        "* 🤖 **Processo 100% automatizado** com uso de agentes inteligentes\n",
        "* 🧩 **Integração simples** com documentos PowerPoint (.pptx)\n",
        "* 💼 Ideal para **equipes globais, apresentações corporativas e conferências multilíngues**"
      ],
      "metadata": {
        "id": "wcviULilW4It"
      }
    },
    {
      "cell_type": "markdown",
      "source": [
        "Instalar bibliotecas"
      ],
      "metadata": {
        "id": "metEra0-XHoe"
      }
    },
    {
      "cell_type": "code",
      "source": [
        "%pip -q install google-genai python-pptx google-adk"
      ],
      "metadata": {
        "id": "UCCbECexLk_h",
        "colab": {
          "base_uri": "https://localhost:8080/"
        },
        "outputId": "64f8b1a8-5aee-48f0-a8bd-cbdaea366692"
      },
      "execution_count": null,
      "outputs": [
        {
          "output_type": "stream",
          "name": "stdout",
          "text": [
            "\u001b[?25l   \u001b[90m━━━━━━━━━━━━━━━━━━━━━━━━━━━━━━━━━━━━━━━━\u001b[0m \u001b[32m0.0/1.2 MB\u001b[0m \u001b[31m?\u001b[0m eta \u001b[36m-:--:--\u001b[0m\r\u001b[2K   \u001b[91m━━━━━━━━━━━━━━━━\u001b[0m\u001b[90m╺\u001b[0m\u001b[90m━━━━━━━━━━━━━━━━━━━━━━━\u001b[0m \u001b[32m0.5/1.2 MB\u001b[0m \u001b[31m14.3 MB/s\u001b[0m eta \u001b[36m0:00:01\u001b[0m\r\u001b[2K   \u001b[91m━━━━━━━━━━━━━━━━━━━━━━━━━━━━━━━━━━━━━━━\u001b[0m\u001b[91m╸\u001b[0m \u001b[32m1.2/1.2 MB\u001b[0m \u001b[31m20.7 MB/s\u001b[0m eta \u001b[36m0:00:01\u001b[0m\r\u001b[2K   \u001b[90m━━━━━━━━━━━━━━━━━━━━━━━━━━━━━━━━━━━━━━━━\u001b[0m \u001b[32m1.2/1.2 MB\u001b[0m \u001b[31m16.0 MB/s\u001b[0m eta \u001b[36m0:00:00\u001b[0m\n",
            "\u001b[2K   \u001b[90m━━━━━━━━━━━━━━━━━━━━━━━━━━━━━━━━━━━━━━━━\u001b[0m \u001b[32m232.1/232.1 kB\u001b[0m \u001b[31m17.8 MB/s\u001b[0m eta \u001b[36m0:00:00\u001b[0m\n",
            "\u001b[2K   \u001b[90m━━━━━━━━━━━━━━━━━━━━━━━━━━━━━━━━━━━━━━━━\u001b[0m \u001b[32m95.2/95.2 kB\u001b[0m \u001b[31m7.0 MB/s\u001b[0m eta \u001b[36m0:00:00\u001b[0m\n",
            "\u001b[2K   \u001b[90m━━━━━━━━━━━━━━━━━━━━━━━━━━━━━━━━━━━━━━━━\u001b[0m \u001b[32m217.1/217.1 kB\u001b[0m \u001b[31m14.7 MB/s\u001b[0m eta \u001b[36m0:00:00\u001b[0m\n",
            "\u001b[2K   \u001b[90m━━━━━━━━━━━━━━━━━━━━━━━━━━━━━━━━━━━━━━━━\u001b[0m \u001b[32m334.1/334.1 kB\u001b[0m \u001b[31m23.9 MB/s\u001b[0m eta \u001b[36m0:00:00\u001b[0m\n",
            "\u001b[2K   \u001b[90m━━━━━━━━━━━━━━━━━━━━━━━━━━━━━━━━━━━━━━━━\u001b[0m \u001b[32m125.1/125.1 kB\u001b[0m \u001b[31m10.2 MB/s\u001b[0m eta \u001b[36m0:00:00\u001b[0m\n",
            "\u001b[2K   \u001b[90m━━━━━━━━━━━━━━━━━━━━━━━━━━━━━━━━━━━━━━━━\u001b[0m \u001b[32m65.8/65.8 kB\u001b[0m \u001b[31m5.4 MB/s\u001b[0m eta \u001b[36m0:00:00\u001b[0m\n",
            "\u001b[2K   \u001b[90m━━━━━━━━━━━━━━━━━━━━━━━━━━━━━━━━━━━━━━━━\u001b[0m \u001b[32m119.0/119.0 kB\u001b[0m \u001b[31m9.2 MB/s\u001b[0m eta \u001b[36m0:00:00\u001b[0m\n",
            "\u001b[2K   \u001b[90m━━━━━━━━━━━━━━━━━━━━━━━━━━━━━━━━━━━━━━━━\u001b[0m \u001b[32m194.9/194.9 kB\u001b[0m \u001b[31m14.6 MB/s\u001b[0m eta \u001b[36m0:00:00\u001b[0m\n",
            "\u001b[2K   \u001b[90m━━━━━━━━━━━━━━━━━━━━━━━━━━━━━━━━━━━━━━━━\u001b[0m \u001b[32m62.5/62.5 kB\u001b[0m \u001b[31m5.0 MB/s\u001b[0m eta \u001b[36m0:00:00\u001b[0m\n",
            "\u001b[2K   \u001b[90m━━━━━━━━━━━━━━━━━━━━━━━━━━━━━━━━━━━━━━━━\u001b[0m \u001b[32m103.3/103.3 kB\u001b[0m \u001b[31m7.9 MB/s\u001b[0m eta \u001b[36m0:00:00\u001b[0m\n",
            "\u001b[2K   \u001b[90m━━━━━━━━━━━━━━━━━━━━━━━━━━━━━━━━━━━━━━━━\u001b[0m \u001b[32m44.4/44.4 kB\u001b[0m \u001b[31m3.3 MB/s\u001b[0m eta \u001b[36m0:00:00\u001b[0m\n",
            "\u001b[2K   \u001b[90m━━━━━━━━━━━━━━━━━━━━━━━━━━━━━━━━━━━━━━━━\u001b[0m \u001b[32m72.0/72.0 kB\u001b[0m \u001b[31m5.3 MB/s\u001b[0m eta \u001b[36m0:00:00\u001b[0m\n",
            "\u001b[?25h"
          ]
        }
      ]
    },
    {
      "cell_type": "markdown",
      "source": [
        "Configura a API Key do Google Gemini"
      ],
      "metadata": {
        "id": "CdttUkEXXcqe"
      }
    },
    {
      "cell_type": "code",
      "source": [
        "import os\n",
        "from google.colab import userdata\n",
        "\n",
        "os.environ[\"GOOGLE_API_KEY\"] = userdata.get('GOOGLE_API_KEY')"
      ],
      "metadata": {
        "id": "NfCqHo1tLk8P"
      },
      "execution_count": null,
      "outputs": []
    },
    {
      "cell_type": "markdown",
      "source": [
        "Importações necessárias para a construção dos agentes utilizando o ADK (Agent Development Kit) do Google."
      ],
      "metadata": {
        "id": "py4HxbB-XgW0"
      }
    },
    {
      "cell_type": "code",
      "execution_count": null,
      "metadata": {
        "id": "aePV2bdfDeoW"
      },
      "outputs": [],
      "source": [
        "from google.adk.agents import Agent\n",
        "from google.adk.runners import Runner\n",
        "from google.adk.sessions import InMemorySessionService\n",
        "from google.genai import types\n",
        "import warnings\n",
        "\n",
        "warnings.filterwarnings(\"ignore\")"
      ]
    },
    {
      "cell_type": "code",
      "source": [
        "# Função auxiliar que envia uma mensagem para um agente via Runner e retorna a resposta final\n",
        "def call_agent(agent: Agent, message_text: str) -> str:\n",
        "    # Cria um serviço de sessão em memória\n",
        "    session_service = InMemorySessionService()\n",
        "    # Cria uma nova sessão (você pode personalizar os IDs conforme necessário)\n",
        "    session = session_service.create_session(app_name=agent.name, user_id=\"user1\", session_id=\"session1\")\n",
        "    # Cria um Runner para o agente\n",
        "    runner = Runner(agent=agent, app_name=agent.name, session_service=session_service)\n",
        "    # Cria o conteúdo da mensagem de entrada\n",
        "    content = types.Content(role=\"user\", parts=[types.Part(text=message_text)])\n",
        "\n",
        "    final_response = \"\"\n",
        "    # Itera assincronamente pelos eventos retornados durante a execução do agente\n",
        "    for event in runner.run(user_id=\"user1\", session_id=\"session1\", new_message=content):\n",
        "        if event.is_final_response():\n",
        "          for part in event.content.parts:\n",
        "            if part.text is not None:\n",
        "              final_response += part.text\n",
        "              final_response += \"\\n\"\n",
        "    return final_response"
      ],
      "metadata": {
        "id": "_xP4lWhsS5ko"
      },
      "execution_count": null,
      "outputs": []
    },
    {
      "cell_type": "markdown",
      "source": [
        "### Agente Tradutor 🧠\n",
        "Recebe uma lista de palavras ou frases e as traduz para o idioma desejado. O prompt engineering é extremamente importante e sensível nesse processo, pois buscamos precisão na correspondência entre os elementos: a quantidade de itens na lista traduzida deve ser exatamente igual à da lista original."
      ],
      "metadata": {
        "id": "n5aZP8IrYlMN"
      }
    },
    {
      "cell_type": "code",
      "source": [
        "##########################################\n",
        "# --- Agente 1: Tradutor --- #\n",
        "##########################################\n",
        "def agente_tradutor(lista, idioma):\n",
        "\n",
        "    qtd = len(lista)\n",
        "\n",
        "    tradutor = Agent(\n",
        "        name=\"agente_tradutor\",\n",
        "        model=\"gemini-2.0-flash\",\n",
        "        instruction=f\"\"\"Você deve traduzir exatamente {qtd} frases para {idioma}.\n",
        "\n",
        "          Regras obrigatórias:\n",
        "          1. Mantenha exatamente {qtd} itens na saída\n",
        "          2. Preserve todos os espaços antes e depois do texto\n",
        "          3. Mantenha a numeração original\n",
        "          4. Não adicione ou remova itens\n",
        "          5. Não adicione comentários ou explicações\n",
        "          6. Preserve as aspas simples em cada item\n",
        "          7. Não combine ou divida frases\n",
        "\n",
        "          Formato de entrada:\n",
        "          {qtd} frases numeradas, uma por linha, entre aspas simples\n",
        "\n",
        "          Formato de saída:\n",
        "          {qtd} frases traduzidas, numeradas, uma por linha, entre aspas simples\n",
        "\n",
        "          Validação:\n",
        "          - Conte o número de linhas antes de responder\n",
        "          - Verifique se cada linha mantém as aspas simples\n",
        "          - Compare a formatação com o exemplo\n",
        "\n",
        "          Exemplo de entrada:\n",
        "          1. 'O carro '\n",
        "          2. 'era'\n",
        "          3. ' muito rápido.'\n",
        "\n",
        "          Exemplo de saída esperada:\n",
        "          1. 'The car '\n",
        "          2. 'was'\n",
        "          3. ' very fast.'\n",
        "\n",
        "          Antes de finalizar, verifique:\n",
        "          - Número de itens: {qtd}\n",
        "          - Formato consistente\n",
        "          - Preservação dos espaços\n",
        "\n",
        "        \"\"\",\n",
        "        description=\"Agente que traduz uma lista de palavras/frases para outro idioma\",\n",
        "    )\n",
        "\n",
        "    # Prompt do Tradutor\n",
        "    entrada_do_agente_tradutor = \"\\n\".join(f\"{i+1}. '{phrase}'\" for i, phrase in enumerate(lista))\n",
        "\n",
        "    # Executa o agente\n",
        "    resposta = call_agent(tradutor, entrada_do_agente_tradutor)\n",
        "\n",
        "    # Converte a resposta em lista\n",
        "    lines = resposta.split('\\n')[:-1]\n",
        "\n",
        "    i = 1\n",
        "    lista_traduzida = []\n",
        "    # Adapta a lista removendo a numeração\n",
        "    for line in lines:\n",
        "        line = line.replace(f\"{i}. \",\"\")\n",
        "        line = line.strip(\"'\")\n",
        "        lista_traduzida.append(line)\n",
        "        i += 1\n",
        "\n",
        "    return lista_traduzida"
      ],
      "metadata": {
        "id": "o8bqIfi_DyH8"
      },
      "execution_count": null,
      "outputs": []
    },
    {
      "cell_type": "markdown",
      "source": [
        "### Agente Revisor ✅\n",
        "Caso a lista traduzida apresente um número diferente de elementos em relação à original, o Agente Revisor entra em ação. Essa divergência pode causar deslocamentos nos slides, já que os itens traduzidos podem ser posicionados incorretamente. O Revisor tenta garantir que a estrutura original da lista seja preservada após a tradução."
      ],
      "metadata": {
        "id": "8kDQ72KwZ1Ep"
      }
    },
    {
      "cell_type": "code",
      "source": [
        "######################################\n",
        "# --- Agente 2: Revisor --- #\n",
        "######################################\n",
        "def agente_revisor(lista_original, lista_traduzida, idioma):\n",
        "    revisor = Agent(\n",
        "        name=\"agente_revisor\",\n",
        "        model=\"gemini-2.0-flash\",\n",
        "        instruction=\"\"\"\n",
        "            Você é um revisor que corrige a quantidade de palavras/frases numa lista após traduzida.\n",
        "            Verifica se algumas palavras traduzidas foram unidas ou separadas.\n",
        "            Retorne a lista corrigida mantendo a estrutura, a quantidade e sem comentários.\n",
        "            \"\"\",\n",
        "        description=\"Agente revisor de itens traduzidos\"\n",
        "    )\n",
        "\n",
        "    lista_original = \"\\n\".join(f\"{i+1}. '{phrase}'\" for i, phrase in enumerate(lista_original))\n",
        "\n",
        "    # Prompt do Revisor\n",
        "    entrada_do_agente_revisor = f\"\"\"\n",
        "\n",
        "    Lista original ({len(lista_original)} elementos):\n",
        "    {lista_original}\n",
        "\n",
        "    Lista traduzida ({len(lista_traduzida)} elementos):\n",
        "    {lista_traduzida}\"\"\"\n",
        "\n",
        "    # Executa o agente\n",
        "    resposta = call_agent(revisor, entrada_do_agente_revisor)\n",
        "    resposta = resposta.replace(\"```\", \"\")\n",
        "\n",
        "    import ast\n",
        "    # Converte para lista a resposta em string\n",
        "    converter_lista = ast.literal_eval(resposta)\n",
        "\n",
        "    return converter_lista"
      ],
      "metadata": {
        "id": "uOqlg2TRLVh1"
      },
      "execution_count": null,
      "outputs": []
    },
    {
      "cell_type": "markdown",
      "source": [
        "### Manipulação de slides pela biblioteca python-pptx\n",
        "Em cada slide, é realizada uma iteração que verifica se cada *shape* é do tipo texto. Os textos identificados são adicionados a uma lista chamada `full_text`.\n",
        "Essa lista é então enviada ao **Agente Tradutor**. Caso o número de elementos da lista traduzida não corresponda ao da original, ambas são encaminhadas ao **Agente Revisor**, que realiza a comparação e corrige as diferenças.\n",
        "Dessa forma, cada elemento é reposicionado corretamente no slide. Esse processo se repete até que todos os slides tenham sido processados."
      ],
      "metadata": {
        "id": "L4Wd6YCbcgIO"
      }
    },
    {
      "cell_type": "code",
      "source": [
        "from pptx import Presentation\n",
        "from pptx.enum.shapes import MSO_SHAPE_TYPE\n",
        "\n",
        "def processar_pptx(file, idioma):\n",
        "\n",
        "  # Carregando o documento\n",
        "  document = Presentation(file)\n",
        "  print(\"Arquivo pptx selecionado\")\n",
        "\n",
        "  # Salve o numero de slides\n",
        "  num_slides = len(document.slides)\n",
        "  pag = 0\n",
        "  failed = []\n",
        "\n",
        "  # Iterando em cada slide\n",
        "  for slide in document.slides:\n",
        "    pag += 1\n",
        "    print(f\"\\nTraduzindo slide {pag}\")\n",
        "\n",
        "    full_text = []\n",
        "    # Iterando em cada shape do slide\n",
        "    for shape in slide.shapes:\n",
        "      # Verifica se o shape é do tipo texto\n",
        "      if shape.has_text_frame:\n",
        "          for paragraph in shape.text_frame.paragraphs:\n",
        "              for run in paragraph.runs:\n",
        "                  full_text.append(run.text)\n",
        "      # Verifica se o shape é do tipo grupo e itera em cada shape do grupo\n",
        "      elif shape.shape_type == MSO_SHAPE_TYPE.GROUP:\n",
        "          for shape in shape.shapes:\n",
        "              if shape.has_text_frame:\n",
        "                  for paragraph in shape.text_frame.paragraphs:\n",
        "                      for run in paragraph.runs:\n",
        "                          full_text.append(run.text)\n",
        "      # Verifica se o shape é do tipo tabela\n",
        "      elif shape.shape_type == MSO_SHAPE_TYPE.TABLE:\n",
        "          table = shape.table\n",
        "          for row in table.rows:\n",
        "              for cell in row.cells:\n",
        "                  full_text.append(cell.text)\n",
        "\n",
        "    print(f'Extraído: {len(full_text)}')\n",
        "    print(full_text)\n",
        "\n",
        "    try:\n",
        "      # Enviar lista para o Agente Tradutor\n",
        "      translated_list = agente_tradutor(full_text, idioma)\n",
        "      print(f'Traduzido: {len(translated_list)}')\n",
        "      print(translated_list)\n",
        "\n",
        "      tentativa = 1\n",
        "      qtd = len(translated_list)\n",
        "\n",
        "      # Se houver divergências executa o Agente Revisor\n",
        "      while tentativa <= 3 and len(full_text) != qtd:\n",
        "        print(\"Erro: O número de frases traduzidas não corresponde ao número de frases extraídas.\")\n",
        "        failed.append(pag)\n",
        "        translated_list = agente_revisor(full_text, translated_list, idioma)\n",
        "        qtd = len(translated_list)\n",
        "        print(f'Revisado: {qtd}')\n",
        "        print(translated_list)\n",
        "        tentativa += 1\n",
        "\n",
        "      # Pula o slide caso o Agente Revisor não consiga resolver\n",
        "      if len(full_text) != len(translated_list):\n",
        "        print(f\"Não foi possível traduzir o slide {pag}\")\n",
        "        continue\n",
        "\n",
        "      # Retorna as palavras traduzidas iterando novamente os shapes\n",
        "      # ainda no mesmo slide\n",
        "      i = 0\n",
        "      for shape in slide.shapes:\n",
        "          if shape.has_text_frame:\n",
        "              for paragraph in shape.text_frame.paragraphs:\n",
        "                  for run in paragraph.runs:\n",
        "                      run.text = run.text.replace(run.text,translated_list[i]).replace(\"\\\\n\",\"\\n\").replace(\"\\\\'\",\"\\'\").replace(\"\\\\u200b\",\"\").replace(\"\\\\xa0\",\"\").replace(\"\\\\t\",\"  \")\n",
        "                      i += 1\n",
        "          elif shape.shape_type == MSO_SHAPE_TYPE.GROUP:\n",
        "              for shape in shape.shapes:\n",
        "                  if shape.has_text_frame:\n",
        "                      for paragraph in shape.text_frame.paragraphs:\n",
        "                          for run in paragraph.runs:\n",
        "                              run.text = run.text.replace(run.text,translated_list[i]).replace(\"\\\\n\",\"\\n\").replace(\"\\\\'\",\"\\'\").replace(\"\\\\u200b\",\"\").replace(\"\\\\xa0\",\"\").replace(\"\\\\t\",\"  \")\n",
        "                              i += 1\n",
        "          elif shape.shape_type == MSO_SHAPE_TYPE.TABLE:\n",
        "              table = shape.table\n",
        "              for row in table.rows:\n",
        "                  for cell in row.cells:\n",
        "                      cell.text = cell.text.replace(cell.text,translated_list[i]).replace(\"\\\\n\",\"\\n\").replace(\"\\\\'\",\"\\'\").replace(\"\\\\u200b\",\"\").replace(\"\\\\xa0\",\"\").replace(\"\\\\t\",\"  \")\n",
        "                      i += 1\n",
        "    except:\n",
        "        pass\n",
        "\n",
        "  print(f\"\\nTotal de revisões: {failed}\") if len(failed) > 0 else print(f\"\\nTodos os {num_slides} slides traduzidos com sucesso!\")\n",
        "\n",
        "  novo_arquivo = f\"{idioma}_{file}\"\n",
        "  document.save(novo_arquivo)\n",
        "\n",
        "  return novo_arquivo"
      ],
      "metadata": {
        "id": "HXukBDmm1Obr"
      },
      "execution_count": null,
      "outputs": []
    },
    {
      "cell_type": "markdown",
      "source": [
        "### Faça o upload do arquivo .pptx 📂"
      ],
      "metadata": {
        "id": "_MuAYhnDmHvk"
      }
    },
    {
      "cell_type": "code",
      "source": [
        "from google.colab import files\n",
        "\n",
        "documentos = files.upload()\n",
        "\n",
        "if documentos:\n",
        "    nome_do_documento = list(documentos.keys())[0]\n",
        "    print(f\"O documento '{nome_do_documento}' foi carregado com sucesso!\")\n",
        "else:\n",
        "    print(\"Nenhum documento foi carregado.\")\n"
      ],
      "metadata": {
        "colab": {
          "base_uri": "https://localhost:8080/",
          "height": 90
        },
        "id": "dBFPvLRmnO5d",
        "outputId": "90240892-80ee-4da6-c0df-e53150248da5"
      },
      "execution_count": null,
      "outputs": [
        {
          "output_type": "display_data",
          "data": {
            "text/plain": [
              "<IPython.core.display.HTML object>"
            ],
            "text/html": [
              "\n",
              "     <input type=\"file\" id=\"files-5cbc4c74-ab9b-412a-be97-1c9513556cd6\" name=\"files[]\" multiple disabled\n",
              "        style=\"border:none\" />\n",
              "     <output id=\"result-5cbc4c74-ab9b-412a-be97-1c9513556cd6\">\n",
              "      Upload widget is only available when the cell has been executed in the\n",
              "      current browser session. Please rerun this cell to enable.\n",
              "      </output>\n",
              "      <script>// Copyright 2017 Google LLC\n",
              "//\n",
              "// Licensed under the Apache License, Version 2.0 (the \"License\");\n",
              "// you may not use this file except in compliance with the License.\n",
              "// You may obtain a copy of the License at\n",
              "//\n",
              "//      http://www.apache.org/licenses/LICENSE-2.0\n",
              "//\n",
              "// Unless required by applicable law or agreed to in writing, software\n",
              "// distributed under the License is distributed on an \"AS IS\" BASIS,\n",
              "// WITHOUT WARRANTIES OR CONDITIONS OF ANY KIND, either express or implied.\n",
              "// See the License for the specific language governing permissions and\n",
              "// limitations under the License.\n",
              "\n",
              "/**\n",
              " * @fileoverview Helpers for google.colab Python module.\n",
              " */\n",
              "(function(scope) {\n",
              "function span(text, styleAttributes = {}) {\n",
              "  const element = document.createElement('span');\n",
              "  element.textContent = text;\n",
              "  for (const key of Object.keys(styleAttributes)) {\n",
              "    element.style[key] = styleAttributes[key];\n",
              "  }\n",
              "  return element;\n",
              "}\n",
              "\n",
              "// Max number of bytes which will be uploaded at a time.\n",
              "const MAX_PAYLOAD_SIZE = 100 * 1024;\n",
              "\n",
              "function _uploadFiles(inputId, outputId) {\n",
              "  const steps = uploadFilesStep(inputId, outputId);\n",
              "  const outputElement = document.getElementById(outputId);\n",
              "  // Cache steps on the outputElement to make it available for the next call\n",
              "  // to uploadFilesContinue from Python.\n",
              "  outputElement.steps = steps;\n",
              "\n",
              "  return _uploadFilesContinue(outputId);\n",
              "}\n",
              "\n",
              "// This is roughly an async generator (not supported in the browser yet),\n",
              "// where there are multiple asynchronous steps and the Python side is going\n",
              "// to poll for completion of each step.\n",
              "// This uses a Promise to block the python side on completion of each step,\n",
              "// then passes the result of the previous step as the input to the next step.\n",
              "function _uploadFilesContinue(outputId) {\n",
              "  const outputElement = document.getElementById(outputId);\n",
              "  const steps = outputElement.steps;\n",
              "\n",
              "  const next = steps.next(outputElement.lastPromiseValue);\n",
              "  return Promise.resolve(next.value.promise).then((value) => {\n",
              "    // Cache the last promise value to make it available to the next\n",
              "    // step of the generator.\n",
              "    outputElement.lastPromiseValue = value;\n",
              "    return next.value.response;\n",
              "  });\n",
              "}\n",
              "\n",
              "/**\n",
              " * Generator function which is called between each async step of the upload\n",
              " * process.\n",
              " * @param {string} inputId Element ID of the input file picker element.\n",
              " * @param {string} outputId Element ID of the output display.\n",
              " * @return {!Iterable<!Object>} Iterable of next steps.\n",
              " */\n",
              "function* uploadFilesStep(inputId, outputId) {\n",
              "  const inputElement = document.getElementById(inputId);\n",
              "  inputElement.disabled = false;\n",
              "\n",
              "  const outputElement = document.getElementById(outputId);\n",
              "  outputElement.innerHTML = '';\n",
              "\n",
              "  const pickedPromise = new Promise((resolve) => {\n",
              "    inputElement.addEventListener('change', (e) => {\n",
              "      resolve(e.target.files);\n",
              "    });\n",
              "  });\n",
              "\n",
              "  const cancel = document.createElement('button');\n",
              "  inputElement.parentElement.appendChild(cancel);\n",
              "  cancel.textContent = 'Cancel upload';\n",
              "  const cancelPromise = new Promise((resolve) => {\n",
              "    cancel.onclick = () => {\n",
              "      resolve(null);\n",
              "    };\n",
              "  });\n",
              "\n",
              "  // Wait for the user to pick the files.\n",
              "  const files = yield {\n",
              "    promise: Promise.race([pickedPromise, cancelPromise]),\n",
              "    response: {\n",
              "      action: 'starting',\n",
              "    }\n",
              "  };\n",
              "\n",
              "  cancel.remove();\n",
              "\n",
              "  // Disable the input element since further picks are not allowed.\n",
              "  inputElement.disabled = true;\n",
              "\n",
              "  if (!files) {\n",
              "    return {\n",
              "      response: {\n",
              "        action: 'complete',\n",
              "      }\n",
              "    };\n",
              "  }\n",
              "\n",
              "  for (const file of files) {\n",
              "    const li = document.createElement('li');\n",
              "    li.append(span(file.name, {fontWeight: 'bold'}));\n",
              "    li.append(span(\n",
              "        `(${file.type || 'n/a'}) - ${file.size} bytes, ` +\n",
              "        `last modified: ${\n",
              "            file.lastModifiedDate ? file.lastModifiedDate.toLocaleDateString() :\n",
              "                                    'n/a'} - `));\n",
              "    const percent = span('0% done');\n",
              "    li.appendChild(percent);\n",
              "\n",
              "    outputElement.appendChild(li);\n",
              "\n",
              "    const fileDataPromise = new Promise((resolve) => {\n",
              "      const reader = new FileReader();\n",
              "      reader.onload = (e) => {\n",
              "        resolve(e.target.result);\n",
              "      };\n",
              "      reader.readAsArrayBuffer(file);\n",
              "    });\n",
              "    // Wait for the data to be ready.\n",
              "    let fileData = yield {\n",
              "      promise: fileDataPromise,\n",
              "      response: {\n",
              "        action: 'continue',\n",
              "      }\n",
              "    };\n",
              "\n",
              "    // Use a chunked sending to avoid message size limits. See b/62115660.\n",
              "    let position = 0;\n",
              "    do {\n",
              "      const length = Math.min(fileData.byteLength - position, MAX_PAYLOAD_SIZE);\n",
              "      const chunk = new Uint8Array(fileData, position, length);\n",
              "      position += length;\n",
              "\n",
              "      const base64 = btoa(String.fromCharCode.apply(null, chunk));\n",
              "      yield {\n",
              "        response: {\n",
              "          action: 'append',\n",
              "          file: file.name,\n",
              "          data: base64,\n",
              "        },\n",
              "      };\n",
              "\n",
              "      let percentDone = fileData.byteLength === 0 ?\n",
              "          100 :\n",
              "          Math.round((position / fileData.byteLength) * 100);\n",
              "      percent.textContent = `${percentDone}% done`;\n",
              "\n",
              "    } while (position < fileData.byteLength);\n",
              "  }\n",
              "\n",
              "  // All done.\n",
              "  yield {\n",
              "    response: {\n",
              "      action: 'complete',\n",
              "    }\n",
              "  };\n",
              "}\n",
              "\n",
              "scope.google = scope.google || {};\n",
              "scope.google.colab = scope.google.colab || {};\n",
              "scope.google.colab._files = {\n",
              "  _uploadFiles,\n",
              "  _uploadFilesContinue,\n",
              "};\n",
              "})(self);\n",
              "</script> "
            ]
          },
          "metadata": {}
        },
        {
          "output_type": "stream",
          "name": "stdout",
          "text": [
            "Saving Exemplo - Projeto de Navios 2023 (reduzido).pptx to Exemplo - Projeto de Navios 2023 (reduzido).pptx\n",
            "O documento 'Exemplo - Projeto de Navios 2023 (reduzido).pptx' foi carregado com sucesso!\n"
          ]
        }
      ]
    },
    {
      "cell_type": "markdown",
      "source": [
        "### Forneça o idioma desejado e aguarde os Agentes fazerem o trabalho 😁\n",
        "  \n",
        "🚨Atenção! O programa não tem limite de slides, mas a **API key gratuita** não permite muitas requisições. Consegui no máximo 15 slides."
      ],
      "metadata": {
        "id": "me_q5HhJqCV0"
      }
    },
    {
      "cell_type": "code",
      "source": [
        "idioma = \"Inglês\"\n",
        "documento_traduzido = processar_pptx(nome_do_documento, idioma)"
      ],
      "metadata": {
        "colab": {
          "base_uri": "https://localhost:8080/"
        },
        "id": "X2jbR_sQoB1w",
        "outputId": "a40d141f-89f2-4236-881d-8480387a4e9b"
      },
      "execution_count": null,
      "outputs": [
        {
          "output_type": "stream",
          "name": "stdout",
          "text": [
            "Arquivo pptx selecionado\n",
            "\n",
            "Traduzindo slide 1\n",
            "Extraído: 12\n",
            "['PROJETO DE NAVIOS ', 'GRUPO 3', 'ENGENHEIROS', 'Breno Guedes Gallo', 'Marcos Vicente Soares Pifano', 'Thiago Aguiar Lima', 'Poli', 'marine', ' PETROLEIRO', 'São Paulo, 20 de ', 'Outubro', ' de 2023']\n",
            "Traduzido: 12\n",
            "['SHIP DESIGN ', 'GROUP 3', 'ENGINEERS', 'Breno Guedes Gallo', 'Marcos Vicente Soares Pifano', 'Thiago Aguiar Lima', 'Poli', 'marine', ' OIL TANKER', 'São Paulo, 20th of ', 'October', ' of 2023']\n",
            "\n",
            "Traduzindo slide 2\n",
            "Extraído: 12\n",
            "['Poli', 'marine', '1. REQUISITOS DO ARMADOR', '2. PRIMEIRAS ESTIMATIVAS', '3. PESOS E CENTROS', '4. ESPAÇO E ARRANJO', '5. ESTABILIDADE', 'AGENDA', 'PNV3415 – ', 'Projeto', ' de ', 'Navios']\n",
            "Traduzido: 12\n",
            "['Poli', 'marine', '1. SHIPOWNER REQUIREMENTS', '2. FIRST ESTIMATES', '3. WEIGHTS AND CENTERS', '4. SPACE AND ARRANGEMENT', '5. STABILITY', 'AGENDA', 'PNV3415 – ', 'Project', ' of ', 'Ships']\n",
            "\n",
            "Traduzindo slide 3\n",
            "Extraído: 17\n",
            "['PRODUTO', 'PETRÓLEO BRUTO', 'REQUISITOS', 'ARMADOR', 'Poli', 'marine', 'AUTONOMIA', '6.000 MILHAS NÁUTICAS', 'DEADWEIGHT CARGA', '115.500 TONELADAS', 'ROTA', 'ARGÉLIA - EUA/HOLANDA/UK', 'VELOCIDADE', '15,7 NÓS', '4', 'PROJETO', ' 11']\n",
            "Traduzido: 17\n",
            "['PRODUCT', 'CRUDE OIL', 'REQUIREMENTS', 'SHIP OWNER', 'Poly', 'marine', 'AUTONOMY', '6,000 NAUTICAL MILES', 'DEADWEIGHT CARGO', '115,500 TONS', 'ROUTE', 'ALGERIA - USA/HOLLAND/UK', 'SPEED', '15.7 KNOTS', '4', 'DRAFT', ' 11']\n",
            "\n",
            "Traduzindo slide 4\n",
            "Extraído: 24\n",
            "['PORTO DE ARZEW', 'PORTO DE VIRGÍNIA', 'Possui a base Naval de Norfolk.  O maior navio que já atracou no porto possuía 396m. ', 'O', ' ', 'calado', ' ', 'máximo é de 15,24m.', 'PORTO DE ROTTERDAM', 'O porto tem a capacidade de acomodar navios petroleiros do tipo ULCC, suportando um ', 'calado de até 22,55m.', 'PORTO DE MILFORD HAVEN', 'Localizado no país de Gales, o canal excede 17m em todos estados de maré.  ', 'O', ' ', 'calado máximo é de 16,1m', ' para atracar.', 'A Argélia é o maior produtor de petróleo bruto do continente africano, e membro da OPEP desde 1961. ', 'Arzew', ' é um porto de médio porte com as seguintes restrições:', 'Calado máximo de 14,5 m', 'LOA máximo de 300 m', 'DWT máximo de 181.433 tons', '5']\n",
            "Traduzido: 24\n",
            "['ARZEW PORT', 'PORT OF VIRGINIA', 'It has the Norfolk Naval base. The largest ship that ever docked in the port was 396m long.', 'The', ' ', 'draft', ' ', 'maximum is 15.24m.', 'PORT OF ROTTERDAM', 'The port has the capacity to accommodate ULCC type oil tankers, supporting a', 'draft of up to 22.55m.', 'PORT OF MILFORD HAVEN', 'Located in Wales, the channel exceeds 17m in all tidal states.', 'The', ' ', 'maximum draft is 16.1m', ' to dock.', 'Algeria is the largest producer of crude oil in the African continent, and a member of OPEC since 1961.', 'Arzew', ' is a medium-sized port with the following restrictions:', 'Maximum draft of 14.5 m', 'Maximum LOA of 300 m', 'Maximum DWT of 181,433 tons', '5']\n",
            "\n",
            "Traduzindo slide 5\n",
            "Extraído: 36\n",
            "['CARACTERÍSTICAS DO NAVIO', 'CLASSE AFRAMAX', '6', 'CARACTERÍSTICAS DA CARGA', 'PETRÓLEO BRUTO DA ARGÉLIA', 'Produtos', 'refinados', 'Produtos', 'Refinados', 'Ou petróleo', 'bruto', 'Petróleo', 'bruto', 'Fonte:', 'PRINCIPAIS SISTEMAS DE UM PETROLEIRO:', 'Sistemas de bombeamento da carga;', 'Sistemas de limpeza dos tanques;', 'Sistemas de ventilação e gás inerte dos tanques;', 'Sistema de lastro.', 'A densidade dos óleos é mensurada através de seu grau API, na qual é classificada da seguinte forma:', '• Leve:', ' Menos de 870 kg/m³ (mais de 31.1° API) Mediterrâneo', '• Médio:', ' 870 a 920 kg/m³ (31.1° API a 22.3° API)', '• Pesado:', ' 920 a 1000 kg/m³ (22.3° API a 10° API) Venezuela', '• Extra Pesado:', ' Mais de 1000 kg/m³ (menos de 10° API)', 'Campo petrolífero de ', 'Hassi', ' ', 'Berkine', '820 kg/m³ (42°API)', 'PRINCIPAIS CUIDADOS DA CARGA:', 'Risco de explosão;', 'Risco de derramamento.']\n",
            "Traduzido: 36\n",
            "['SHIP CHARACTERISTICS', 'AFRAMAX CLASS', '6', 'CARGO CHARACTERISTICS', 'ALGERIAN CRUDE OIL', 'Products', 'refined', 'Products', 'Refined', 'Or oil', 'crude', 'Oil', 'crude', 'Source:', 'MAIN SYSTEMS OF AN OIL TANKER:', 'Cargo pumping systems;', 'Tank cleaning systems;', 'Tank ventilation and inert gas systems;', 'Ballast system.', 'The density of oils is measured by its API gravity, which is classified as follows:', '• Light:', ' Less than 870 kg/m³ (more than 31.1° API) Mediterranean', '• Medium:', ' 870 to 920 kg/m³ (31.1° API to 22.3° API)', '• Heavy:', ' 920 to 1000 kg/m³ (22.3° API to 10° API) Venezuela', '• Extra Heavy:', ' More than 1000 kg/m³ (less than 10° API)', 'Oil field of ', 'Hassi', ' ', 'Berkine', '820 kg/m³ (42°API)', 'MAIN CARGO CONCERNS:', 'Risk of explosion;', 'Risk of spillage.']\n",
            "\n",
            "Traduzindo slide 6\n",
            "Extraído: 5\n",
            "['ESPIRAL DE', 'PROJETO', '7', 'Poli', 'marine']\n",
            "Traduzido: 5\n",
            "['SPIRAL OF', 'PROJECT', '7', 'Poly', 'marine']\n",
            "\n",
            "Traduzindo slide 7\n",
            "Extraído: 12\n",
            "['Poli', 'marine', '1. REQUISITOS DO ARMADOR', '2. PRIMEIRAS ESTIMATIVAS', '3. PESOS E CENTROS', '4. ESPAÇO E ARRANJO', '5. ESTABILIDADE', 'AGENDA', 'PNV3415 – ', 'Projeto', ' de ', 'Navios']\n",
            "Traduzido: 12\n",
            "['Poli', 'marine', '1. SHIPOWNER REQUIREMENTS', '2. FIRST ESTIMATES', '3. WEIGHTS AND CENTERS', '4. SPACE AND ARRANGEMENT', '5. STABILITY', 'AGENDA', 'PNV3415 – ', 'Project', ' of ', 'Ships']\n",
            "\n",
            "Traduzindo slide 8\n",
            "Extraído: 5\n",
            "['NAVIOS SEMELHANTES', 'BANCO DE DADOS', '9', 'REFERÊNCIAS', 'DE NAVIOS']\n",
            "Traduzido: 5\n",
            "['SIMILAR SHIPS', 'DATABASE', '9', 'REFERENCES', 'OF SHIPS']\n",
            "\n",
            "Traduzindo slide 9\n",
            "Extraído: 6\n",
            "['NAVIOS SEMELHANTES', '10', 'REFERÊNCIAS', 'DE NAVIOS', '390 NAVIOS', '1537 NAVIOS']\n",
            "Traduzido: 6\n",
            "['SIMILAR SHIPS', '10', 'REFERENCES', 'OF SHIPS', '390 SHIPS', '1537 SHIPS']\n",
            "\n",
            "Traduzindo slide 10\n",
            "Extraído: 21\n",
            "['NAVIO', 'SEMELHANTE', '11', '• LOA:', ' 249,85 m', '• LBP:', ' 239 m', '• Boca:', ' 44 m', '• Pontal:', ' 21,3 m', '• Calado:', ' 15 m', '• Velocidade (75% MCR):', ' 14,5 nós', '• Capacidade de carga:', ' 124,9 k m³', '• DWT (projeto):', ' 109,5 k tons', 'CONSTRUÍDO NA', 'CORÉIA DO SUL']\n",
            "Traduzido: 21\n",
            "['SHIP', 'SIMILAR', '11', '• LOA:', ' 249.85 m', '• LBP:', ' 239 m', '• Breadth:', ' 44 m', '• Depth:', ' 21.3 m', '• Draft:', ' 15 m', '• Speed (75% MCR):', ' 14.5 knots', '• Cargo capacity:', ' 124.9 k m³', '• DWT (design):', ' 109.5 k tons', 'BUILT IN', 'SOUTH KOREA']\n",
            "\n",
            "Traduzindo slide 11\n",
            "Extraído: 24\n",
            "['DIMENSÕES E', 'COMPARTIMENTOS', '12', 'B', 'd', 'Carga', 'Carga', 'Carga', 'Carga', 'Carga', 'Carga', 'B', 'Carga', 'Carga', 'Carga', 'Carga', 'Carga', 'Carga', 'Carga', 'Carga', 'Carga', 'Carga', 'Carga', 'Carga']\n",
            "Traduzido: 24\n",
            "['DIMENSIONS AND', 'COMPARTMENTS', '12', 'B', 'd', 'Load', 'Load', 'Load', 'Load', 'Load', 'Load', 'B', 'Load', 'Load', 'Load', 'Load', 'Load', 'Load', 'Load', 'Load', 'Load', 'Load', 'Load', 'Load']\n",
            "\n",
            "Traduzindo slide 12\n",
            "Extraído: 18\n",
            "['METODOLOGIA', 'PRIMEIRAS ESTIMATIVAS', '13', 'Análise dos gráficos de dispersão e correlação do DWT pelas principais dimensões (LBP, B, D e d);', 'Verificação de padrões e possíveis regressões;', 'Tratamento dos dados (análise local e eliminação de outliers);', 'Verificação da inviabilidade de regressão na análise local;', 'Cálculo das estatísticas descritivas (dimensões principais e adimensionais).', 'ANÁLISE DOS', 'BANCOS DE DADOS', 'COMPARAÇÃO', 'DE OUTRAS ', 'REFERÊNCIAS ', 'Dimensões principais pelo relatório da ', 'Univ. da Dinamarca (Kristensen, 2012) ', 'e seu banco de dados;', 'Adimensionais pelo ', 'Ship Design and Construction (Parsons, 2003).']\n",
            "Traduzido: 18\n",
            "['METHODOLOGY', 'FIRST ESTIMATES', '13', 'Analysis of DWT scatter and correlation plots by main dimensions (LBP, B, D and d);', 'Verification of patterns and possible regressions;', 'Data processing (local analysis and outlier removal);', 'Verification of the infeasibility of regression in the local analysis;', 'Calculation of descriptive statistics (main and dimensionless dimensions).', 'ANALYSIS OF', 'DATABASES', 'COMPARISON', 'OF OTHER', 'REFERENCES', 'Main dimensions from the report of the', 'Univ. of Denmark (Kristensen, 2012)', 'and its database;', 'Dimensionless by', 'Ship Design and Construction (Parsons, 2003).']\n",
            "\n",
            "Traduzindo slide 13\n",
            "Extraído: 12\n",
            "['DIMENSÕES ', 'PRINCIPAIS', 'Análise local: ', 'Somou os dois bancos de dados, analisando navios compreendidos entre 105.000ton e 126.000ton de DWT', ' (+/- 10.500ton do\\xa0requisito).', 'Total de ', '331 navios semelhantes.', '14', '390 navios', '(DWT de 62.500 a 321.000)', '1537 navios', '(DWT de 525 a 441893)']\n",
            "Traduzido: 12\n",
            "['DIMENSIONS ', 'MAIN', 'Local analysis: ', 'Added the two databases, analyzing ships between 105,000 tons and 126,000 tons DWT', ' (+/- 10,500ton of the requirement).', 'Total of ', '331 similar ships.', '14', '390 ships', '(DWT from 62,500 to 321,000)', '1537 ships', '(DWT from 525 to 441893)']\n",
            "\n",
            "Traduzindo slide 14\n",
            "Extraído: 18\n",
            "['DIMENSÕES ', 'PRINCIPAIS', 'Regressão linear: ', 'navios tanques de diversos portes. Embora há uma regressão linear (reparar no r² baixo), será analisado apenas a faixa de deadweight requerido pelo armador.', '15', 'Hans Otto', 'Kristensen', 'LBP', ' de 232 a 245, com valor típico de 239.', 'B', ' de 42 a 45, com valores típicos de 42, 43 e 44,3', 'D', ' de 20,8 a 23,5, com valor típicos de 21 a 22.', 'd', ' de 14,5 a 15,7.', 'C', 'B', ' de 0,81 a 0,85, com valor típico de 0,84.']\n",
            "Traduzido: 18\n",
            "['DIMENSIONS ', 'MAIN', 'Linear regression: ', 'tanker ships of various sizes. Although there is a linear regression (note the low r²), only the deadweight range required by the shipowner will be analyzed.', '15', 'Hans Otto', 'Kristensen', 'LBP', ' from 232 to 245, with a typical value of 239.', 'B', ' from 42 to 45, with typical values of 42, 43 and 44.3', 'D', ' from 20.8 to 23.5, with typical values from 21 to 22.', 'd', ' from 14.5 to 15.7.', 'C', 'B', ' from 0.81 to 0.85, with a typical value of 0.84.']\n",
            "\n",
            "Traduzindo slide 15\n",
            "Extraído: 74\n",
            "['46', 'VCG Carregado', '', '', 'Componente', 'Posição (m)', 'Peso (ton)', 'Peso Leve', '12,05', '22.866,21', 'Deadweight total', '12,74', '116.779,21', 'Total', '12,63', '139.645,41', 'LCG carregado', '', '', 'Componente', 'Posição (m)', 'Peso (ton)', 'Peso Leve', '112,43', '22.866,21', 'Deadweight total', '131,70', '116.779,21', 'Total', '128,55', '139.645,41', 'VCG Lastro', '', '', 'Componente', 'Posição (m)', 'Peso (ton)', 'Peso Leve', '12,05', '22.866,21', 'Deadweight\\xa0total', '11,46', '58.090,26', 'Total', '11,62', '80.956,47', 'LCG lastro', '', '', 'Componente', 'Posição (m)', 'Peso (ton)', 'Peso Leve', '112,43', '22.866,21', 'Deadweight\\xa0total', '134,80', '58.090,26', 'Total', '128,48', '80.956,47', 'C', 'ENTRO DE GRAVIDADE ', 'EM DUAS CONDIÇÕES', 'CARREGADO: ', 'Essa condição implica calado máximo;', 'Preferível ', 'trim', ' próximo a zero.', 'LASTRO: ', 'Essa condição implica calado mínimo;', 'Se houver ', 'trim', ', preferível >0;']\n",
            "Traduzido: 74\n",
            "['46', 'VCG Loaded', '', '', 'Component', 'Position (m)', 'Weight (ton)', 'Lightweight', '12.05', '22,866.21', 'Total deadweight', '12.74', '116,779.21', 'Total', '12.63', '139,645.41', 'LCG loaded', '', '', 'Component', 'Position (m)', 'Weight (ton)', 'Lightweight', '112.43', '22,866.21', 'Total deadweight', '131.70', '116,779.21', 'Total', '128.55', '139,645.41', 'VCG Ballast', '', '', 'Component', 'Position (m)', 'Weight (ton)', 'Lightweight', '12.05', '22,866.21', 'Total deadweight', '11.46', '58,090.26', 'Total', '11.62', '80,956.47', 'LCG ballast', '', '', 'Component', 'Position (m)', 'Weight (ton)', 'Lightweight', '112.43', '22,866.21', 'Total deadweight', '134.80', '58,090.26', 'Total', '128.48', '80,956.47', 'C', 'ENTER OF GRAVITY', 'IN TWO CONDITIONS', 'LOADED:', 'This condition implies maximum draft;', 'Preferable', 'trim', ' close to zero.', 'BALLAST:', 'This condition implies minimum draft;', 'If there is', 'trim', ', preferable >0;']\n",
            "Todos os 15 slides traduzidos com sucesso!\n"
          ]
        }
      ]
    },
    {
      "cell_type": "markdown",
      "source": [
        "### Prontinho! Faça o download abaixo 👇"
      ],
      "metadata": {
        "id": "GXpcwDmhtwzL"
      }
    },
    {
      "cell_type": "code",
      "source": [
        "# Fazer o download do novo documento traduzido\n",
        "files.download(documento_traduzido)"
      ],
      "metadata": {
        "colab": {
          "base_uri": "https://localhost:8080/",
          "height": 17
        },
        "id": "OMtGfMOv1oxh",
        "outputId": "f7eaf213-cec1-49a2-f2b2-91c4b74de342"
      },
      "execution_count": null,
      "outputs": [
        {
          "output_type": "display_data",
          "data": {
            "text/plain": [
              "<IPython.core.display.Javascript object>"
            ],
            "application/javascript": [
              "\n",
              "    async function download(id, filename, size) {\n",
              "      if (!google.colab.kernel.accessAllowed) {\n",
              "        return;\n",
              "      }\n",
              "      const div = document.createElement('div');\n",
              "      const label = document.createElement('label');\n",
              "      label.textContent = `Downloading \"${filename}\": `;\n",
              "      div.appendChild(label);\n",
              "      const progress = document.createElement('progress');\n",
              "      progress.max = size;\n",
              "      div.appendChild(progress);\n",
              "      document.body.appendChild(div);\n",
              "\n",
              "      const buffers = [];\n",
              "      let downloaded = 0;\n",
              "\n",
              "      const channel = await google.colab.kernel.comms.open(id);\n",
              "      // Send a message to notify the kernel that we're ready.\n",
              "      channel.send({})\n",
              "\n",
              "      for await (const message of channel.messages) {\n",
              "        // Send a message to notify the kernel that we're ready.\n",
              "        channel.send({})\n",
              "        if (message.buffers) {\n",
              "          for (const buffer of message.buffers) {\n",
              "            buffers.push(buffer);\n",
              "            downloaded += buffer.byteLength;\n",
              "            progress.value = downloaded;\n",
              "          }\n",
              "        }\n",
              "      }\n",
              "      const blob = new Blob(buffers, {type: 'application/binary'});\n",
              "      const a = document.createElement('a');\n",
              "      a.href = window.URL.createObjectURL(blob);\n",
              "      a.download = filename;\n",
              "      div.appendChild(a);\n",
              "      a.click();\n",
              "      div.remove();\n",
              "    }\n",
              "  "
            ]
          },
          "metadata": {}
        },
        {
          "output_type": "display_data",
          "data": {
            "text/plain": [
              "<IPython.core.display.Javascript object>"
            ],
            "application/javascript": [
              "download(\"download_7c936464-b9d0-4a34-873b-d8e9fa6c6902\", \"Ingl\\u00eas_Exemplo - Projeto de Navios 2023 (reduzido).pptx\", 12353977)"
            ]
          },
          "metadata": {}
        }
      ]
    }
  ]
}